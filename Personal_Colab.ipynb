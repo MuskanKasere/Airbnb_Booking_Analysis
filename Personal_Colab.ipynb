{
  "nbformat": 4,
  "nbformat_minor": 0,
  "metadata": {
    "colab": {
      "provenance": [],
      "authorship_tag": "ABX9TyPaAe6Z2b8fMhHRf/+FSBF+",
      "include_colab_link": true
    },
    "kernelspec": {
      "name": "python3",
      "display_name": "Python 3"
    },
    "language_info": {
      "name": "python"
    }
  },
  "cells": [
    {
      "cell_type": "markdown",
      "metadata": {
        "id": "view-in-github",
        "colab_type": "text"
      },
      "source": [
        "<a href=\"https://colab.research.google.com/github/MuskanKasere/Airbnb_Booking_Analysis/blob/main/Personal_Colab.ipynb\" target=\"_parent\"><img src=\"https://colab.research.google.com/assets/colab-badge.svg\" alt=\"Open In Colab\"/></a>"
      ]
    },
    {
      "cell_type": "markdown",
      "source": [
        "# **Project Name**    -   **AirBnB Booking Analysis**\n",
        "\n",
        "\n"
      ],
      "metadata": {
        "id": "QvSZjyGSfPWG"
      }
    },
    {
      "cell_type": "markdown",
      "source": [
        "##### **Project Type** - EDA\n",
        "##### **Contribution** - Team\n",
        "##### **Team Member 1 -** Vinayak Vijay Marathe\n",
        "##### **Team Member 2 -** Riya Patel\n",
        "##### **Team Member 3 -** Muskan Kasere"
      ],
      "metadata": {
        "id": "HSFCGb8FfR-i"
      }
    },
    {
      "cell_type": "markdown",
      "source": [],
      "metadata": {
        "id": "iduV5JCXgz5P"
      }
    },
    {
      "cell_type": "markdown",
      "source": [
        "# **Project Summary -**\n",
        "\n",
        "\n",
        "\n"
      ],
      "metadata": {
        "id": "DQprNhWQgnp-"
      }
    },
    {
      "cell_type": "markdown",
      "source": [
        "AirBnb is a brief identify for **\"Air Bed and Breakfast\"**, is a online hospitality company focused on short time length homestays or rental platform.\n",
        "\n",
        "On airbnb, users can book a nearby to stay as accordance to their convinent in more than 34000+ cities at some aspect of 200+ countries. Airbnb used to started in 2008 by Brian Chesky and Joe Gebbia, specifically based in San Francisco California. Airbnb platform is reachable via mobile app and website.\n",
        "\n",
        "In our project, there is 16 columns which has hosts, host_name, neighbourhood_group, neighbourhood, room_type etc and 48895 rows which has all the information about airbnb's hosts. This datasets also have some null values which are handled by us. We can also see the overall details of NYC using the map.\n"
      ],
      "metadata": {
        "id": "TkyRV9kagqXJ"
      }
    },
    {
      "cell_type": "markdown",
      "source": [
        "# **GitHub Link -**"
      ],
      "metadata": {
        "id": "kFoudBdeg1Tk"
      }
    },
    {
      "cell_type": "markdown",
      "source": [
        "Provide your GitHub Link here.\n",
        "\n",
        "1.   Vinayak Marathe: https://github.com/v1git12\n",
        "2.   Riya Patel: https://github.com/riyapatelrp\n",
        "3.   Muskan Kasere: https://github.com/MuskanKasere\n",
        "   \n",
        "\n",
        "\n",
        "\n"
      ],
      "metadata": {
        "id": "4KgqkF7mg3OF"
      }
    },
    {
      "cell_type": "markdown",
      "source": [
        "# **Problem Statement**\n"
      ],
      "metadata": {
        "id": "rpXG_Qffg8AX"
      }
    },
    {
      "cell_type": "markdown",
      "source": [
        "The objective of the project is to perform an exploratory data analysis, data pre-processing, data cleaning & imputation and at the end, apply different Data Visualization techniques to get the meaningful insight from the given data. This project aims apply some amazing Python Libraries such as Folium and WordCloud which will give a boost to our visual understanding of the data.\n",
        "\n",
        "These thousands and lots of records generate a lot of statistics/data and this data can be analyzed, used for security, grasp of customers/providers behavior, buisness preferences & performance on the platform, implementation of modern additional service and for a lots of things. we are analyzing the various aspects with different use cases which covers many aspects of airbnb listings.\n",
        "\n"
      ],
      "metadata": {
        "id": "X4dLSyNxg8wi"
      }
    },
    {
      "cell_type": "markdown",
      "source": [
        "#### **Define Your Business Objective?**"
      ],
      "metadata": {
        "id": "ueuL4NMthA1n"
      }
    },
    {
      "cell_type": "markdown",
      "source": [
        "To Analyze the Buisness Trends and Customer's Views/Satisfaction"
      ],
      "metadata": {
        "id": "VgxDls6ChELl"
      }
    },
    {
      "cell_type": "markdown",
      "source": [
        "# **General Guidelines** : -  "
      ],
      "metadata": {
        "id": "nCsQ0lEvhGOj"
      }
    },
    {
      "cell_type": "markdown",
      "source": [
        "1.   Well-structured, formatted, and commented code is required. \n",
        "2.   Exception Handling, Production Grade Code & Deployment Ready Code will be a plus. Those students will be awarded some additional credits. \n",
        "     \n",
        "     The additional credits will have advantages over other students during Star Student selection.\n",
        "       \n",
        "             [ Note: - Deployment Ready Code is defined as, the whole .ipynb notebook should be executable in one go\n",
        "                       without a single error logged. ]\n",
        "\n",
        "3.   Each and every logic should have proper comments.\n",
        "4. You may add as many number of charts you want. Make Sure for each and every chart the following format should be answered.\n",
        "        \n",
        "\n",
        "```\n",
        "# Chart visualization code\n",
        "```\n",
        "            \n",
        "\n",
        "*   Why did you pick the specific chart?\n",
        "*   What is/are the insight(s) found from the chart?\n",
        "* Will the gained insights help creating a positive business impact? \n",
        "Are there any insights that lead to negative growth? Justify with specific reason.\n",
        "\n",
        "5. You have to create at least 20 logical & meaningful charts having important insights.\n",
        "\n",
        "\n",
        "[ Hints : - Do the Vizualization in  a structured way while following \"UBM\" Rule. \n",
        "\n",
        "U - Univariate Analysis,\n",
        "\n",
        "B - Bivariate Analysis (Numerical - Categorical, Numerical - Numerical, Categorical - Categorical)\n",
        "\n",
        "M - Multivariate Analysis\n",
        " ]\n",
        "\n",
        "\n",
        "\n"
      ],
      "metadata": {
        "id": "fMDHRnrThIwo"
      }
    },
    {
      "cell_type": "markdown",
      "source": [
        "# ***Let's Begin !***"
      ],
      "metadata": {
        "id": "-ut-RMdChLyv"
      }
    },
    {
      "cell_type": "markdown",
      "source": [
        "## ***1. Know Your Data***"
      ],
      "metadata": {
        "id": "iKW31F-KhtOf"
      }
    },
    {
      "cell_type": "markdown",
      "source": [
        "### Import Libraries"
      ],
      "metadata": {
        "id": "UDxsrt5ahv35"
      }
    },
    {
      "cell_type": "code",
      "source": [
        "# Import Libraries\n",
        "import numpy as np\n",
        "import pandas as pd\n",
        "import matplotlib.pyplot as plt\n",
        "%matplotlib inline\n",
        "import seaborn as sns\n",
        "\n",
        "#for new york city map\n",
        "import folium\n",
        "from folium.plugins import FastMarkerCluster"
      ],
      "metadata": {
        "id": "Jt6JBgFJh16g"
      },
      "execution_count": null,
      "outputs": []
    },
    {
      "cell_type": "markdown",
      "source": [
        "### Dataset Loading"
      ],
      "metadata": {
        "id": "Va-U85KViBN_"
      }
    },
    {
      "cell_type": "code",
      "source": [
        "# Load Dataset\n",
        "url = 'https://drive.google.com/file/d/1ioU5r9KEYSfwgfUi22SclVkx4l1a_8ou/view?usp=sharing'\n",
        "url = 'https://drive.google.com/uc?id=' + url.split('/')[-2]\n",
        "airbnb_data = pd.read_csv(url)"
      ],
      "metadata": {
        "id": "vhF-LlOniEW9"
      },
      "execution_count": null,
      "outputs": []
    },
    {
      "cell_type": "markdown",
      "source": [],
      "metadata": {
        "id": "AcMx4lbrgshA"
      }
    },
    {
      "cell_type": "markdown",
      "source": [
        "*  id - unique listing id\n",
        "*  Name - Represents Accommodations\n",
        "*  Host id - Unique id for hosts\n",
        "*  Host Name - Registerd name for hosts\n",
        "*  Neighbourhood Group - Group of area/Locations\n",
        "*  Neighbourhood - Area under neighbourhood group\n",
        "*  Latitude - location of listing\n",
        "*  Longitude - location of listing\n",
        "*  Room Type - unique types of each room \n",
        "*  Price - price of properties in dollar\n",
        "*  Minimum Nights - minimum nights stay required for single visit\n",
        "*  Number Of Reviews - total rating \n",
        "*  Last review - latest review given\n",
        "*  Reviews Per Months - ratings recieved per month\n",
        "*  Calculated Host Listings Count - total number of properties registerd under hosts\n",
        "*  Avaliability_365 - number of days for which host is available in a year for bookings\n"
      ],
      "metadata": {
        "id": "j-QPEJY9eQJK"
      }
    },
    {
      "cell_type": "markdown",
      "source": [
        "Numeric Variable\n",
        "\n",
        "    host_id\n",
        "    latitude                       \n",
        "    longitude  \n",
        "    price \n",
        "    minimum_nights    \n",
        "    number_of_reviews                \n",
        "    reviews_per_month               \n",
        "    calculated_host_listings_count  \n",
        "    availability_365 \n",
        "\n",
        "\n"
      ],
      "metadata": {
        "id": "9oe1RFygebpJ"
      }
    },
    {
      "cell_type": "markdown",
      "source": [
        "Catagorical Variable\n",
        "\n",
        "    name\n",
        "    host_name                       \n",
        "    neighbourhood_group              \n",
        "    neighbourhood\n",
        "    room_type    "
      ],
      "metadata": {
        "id": "gijgN2cXeeiG"
      }
    },
    {
      "cell_type": "markdown",
      "source": [
        "### Check Unique Values for each variable.\n",
        "\n",
        "\n"
      ],
      "metadata": {
        "id": "Zonn37xmekcj"
      }
    },
    {
      "cell_type": "code",
      "source": [
        "# Check Unique Values for each variable.\n",
        "for unique_value in airbnb_data.columns:\n",
        "  print(\"Unique values in\",unique_value,\"column is\",airbnb_data[unique_value].nunique(),\".\")"
      ],
      "metadata": {
        "id": "9NB27u_2eoAW"
      },
      "execution_count": null,
      "outputs": []
    },
    {
      "cell_type": "code",
      "source": [
        "print('Unique values in neighbourhood_group is:',airbnb_data['neighbourhood_group'].unique())\n",
        "print('Unique values in room_type is:',airbnb_data['room_type'].unique())"
      ],
      "metadata": {
        "id": "dLhnWhBwetuc"
      },
      "execution_count": null,
      "outputs": []
    },
    {
      "cell_type": "markdown",
      "source": [
        "## 3. ***Data Wrangling***"
      ],
      "metadata": {
        "id": "6cOlKpbQ53Tq"
      }
    },
    {
      "cell_type": "markdown",
      "source": [
        "### Data Wrangling Code"
      ],
      "metadata": {
        "id": "HOHqkzZr6GP0"
      }
    }
  ]
}