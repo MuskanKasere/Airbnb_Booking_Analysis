{
  "nbformat": 4,
  "nbformat_minor": 0,
  "metadata": {
    "colab": {
      "provenance": [],
      "authorship_tag": "ABX9TyP+Z5DSl6cSKVpptDGmMmwB",
      "include_colab_link": true
    },
    "kernelspec": {
      "name": "python3",
      "display_name": "Python 3"
    },
    "language_info": {
      "name": "python"
    }
  },
  "cells": [
    {
      "cell_type": "markdown",
      "metadata": {
        "id": "view-in-github",
        "colab_type": "text"
      },
      "source": [
        "<a href=\"https://colab.research.google.com/github/MuskanKasere/Airbnb_Booking_Analysis/blob/main/Personal_Colab.ipynb\" target=\"_parent\"><img src=\"https://colab.research.google.com/assets/colab-badge.svg\" alt=\"Open In Colab\"/></a>"
      ]
    },
    {
      "cell_type": "markdown",
      "source": [
        "# **Project Name**    -   **AirBnB Booking Analysis**\n",
        "\n",
        "\n"
      ],
      "metadata": {
        "id": "QvSZjyGSfPWG"
      }
    },
    {
      "cell_type": "markdown",
      "source": [
        "##### **Project Type** - EDA\n",
        "##### **Contribution** - Team\n",
        "##### **Team Member 1 -** Vinayak Vijay Marathe\n",
        "##### **Team Member 2 -** Riya Patel\n",
        "##### **Team Member 3 -** Muskan Kasere"
      ],
      "metadata": {
        "id": "HSFCGb8FfR-i"
      }
    },
    {
      "cell_type": "markdown",
      "source": [],
      "metadata": {
        "id": "iduV5JCXgz5P"
      }
    },
    {
      "cell_type": "markdown",
      "source": [
        "# **Project Summary -**\n",
        "\n",
        "\n",
        "\n"
      ],
      "metadata": {
        "id": "DQprNhWQgnp-"
      }
    },
    {
      "cell_type": "markdown",
      "source": [
        "AirBnb is a brief identify for **\"Air Bed and Breakfast\"**, is a online hospitality company focused on short time length homestays or rental platform.\n",
        "\n",
        "On airbnb, users can book a nearby to stay as accordance to their convinent in more than 34000+ cities at some aspect of 200+ countries. Airbnb used to started in 2008 by Brian Chesky and Joe Gebbia, specifically based in San Francisco California. Airbnb platform is reachable via mobile app and website.\n",
        "\n",
        "In our project, there is 16 columns which has hosts, host_name, neighbourhood_group, neighbourhood, room_type etc and 48895 rows which has all the information about airbnb's hosts. This datasets also have some null values which are handled by us. We can also see the overall details of NYC using the map.\n"
      ],
      "metadata": {
        "id": "TkyRV9kagqXJ"
      }
    },
    {
      "cell_type": "markdown",
      "source": [
        "# **GitHub Link -**"
      ],
      "metadata": {
        "id": "kFoudBdeg1Tk"
      }
    },
    {
      "cell_type": "markdown",
      "source": [
        "Provide your GitHub Link here.\n",
        "\n",
        "1.   Vinayak Marathe: https://github.com/v1git12\n",
        "2.   Riya Patel: https://github.com/riyapatelrp\n",
        "3.   Muskan Kasere: https://github.com/MuskanKasere\n",
        "   \n",
        "\n",
        "\n",
        "\n"
      ],
      "metadata": {
        "id": "4KgqkF7mg3OF"
      }
    },
    {
      "cell_type": "markdown",
      "source": [
        "# **Problem Statement**\n"
      ],
      "metadata": {
        "id": "rpXG_Qffg8AX"
      }
    },
    {
      "cell_type": "markdown",
      "source": [
        "The objective of the project is to perform an exploratory data analysis, data pre-processing, data cleaning & imputation and at the end, apply different Data Visualization techniques to get the meaningful insight from the given data. This project aims apply some amazing Python Libraries such as Folium and WordCloud which will give a boost to our visual understanding of the data.\n",
        "\n",
        "These thousands and lots of records generate a lot of statistics/data and this data can be analyzed, used for security, grasp of customers/providers behavior, buisness preferences & performance on the platform, implementation of modern additional service and for a lots of things. we are analyzing the various aspects with different use cases which covers many aspects of airbnb listings.\n",
        "\n"
      ],
      "metadata": {
        "id": "X4dLSyNxg8wi"
      }
    },
    {
      "cell_type": "markdown",
      "source": [
        "#### **Define Your Business Objective?**"
      ],
      "metadata": {
        "id": "ueuL4NMthA1n"
      }
    },
    {
      "cell_type": "markdown",
      "source": [
        "To Analyze the Buisness Trends and Customer's Views/Satisfaction"
      ],
      "metadata": {
        "id": "VgxDls6ChELl"
      }
    },
    {
      "cell_type": "markdown",
      "source": [
        "# **General Guidelines** : -  "
      ],
      "metadata": {
        "id": "nCsQ0lEvhGOj"
      }
    },
    {
      "cell_type": "markdown",
      "source": [
        "1.   Well-structured, formatted, and commented code is required. \n",
        "2.   Exception Handling, Production Grade Code & Deployment Ready Code will be a plus. Those students will be awarded some additional credits. \n",
        "     \n",
        "     The additional credits will have advantages over other students during Star Student selection.\n",
        "       \n",
        "             [ Note: - Deployment Ready Code is defined as, the whole .ipynb notebook should be executable in one go\n",
        "                       without a single error logged. ]\n",
        "\n",
        "3.   Each and every logic should have proper comments.\n",
        "4. You may add as many number of charts you want. Make Sure for each and every chart the following format should be answered.\n",
        "        \n",
        "\n",
        "```\n",
        "# Chart visualization code\n",
        "```\n",
        "            \n",
        "\n",
        "*   Why did you pick the specific chart?\n",
        "*   What is/are the insight(s) found from the chart?\n",
        "* Will the gained insights help creating a positive business impact? \n",
        "Are there any insights that lead to negative growth? Justify with specific reason.\n",
        "\n",
        "5. You have to create at least 20 logical & meaningful charts having important insights.\n",
        "\n",
        "\n",
        "[ Hints : - Do the Vizualization in  a structured way while following \"UBM\" Rule. \n",
        "\n",
        "U - Univariate Analysis,\n",
        "\n",
        "B - Bivariate Analysis (Numerical - Categorical, Numerical - Numerical, Categorical - Categorical)\n",
        "\n",
        "M - Multivariate Analysis\n",
        " ]\n",
        "\n",
        "\n",
        "\n"
      ],
      "metadata": {
        "id": "fMDHRnrThIwo"
      }
    },
    {
      "cell_type": "markdown",
      "source": [
        "# ***Let's Begin !***"
      ],
      "metadata": {
        "id": "-ut-RMdChLyv"
      }
    },
    {
      "cell_type": "markdown",
      "source": [
        "## ***1. Know Your Data***"
      ],
      "metadata": {
        "id": "iKW31F-KhtOf"
      }
    },
    {
      "cell_type": "markdown",
      "source": [
        "### Import Libraries"
      ],
      "metadata": {
        "id": "UDxsrt5ahv35"
      }
    },
    {
      "cell_type": "code",
      "source": [
        "# Import Libraries\n",
        "import numpy as np\n",
        "import pandas as pd\n",
        "import matplotlib.pyplot as plt\n",
        "%matplotlib inline\n",
        "import seaborn as sns\n",
        "\n",
        "#for new york city map\n",
        "import folium\n",
        "from folium.plugins import FastMarkerCluster"
      ],
      "metadata": {
        "id": "Jt6JBgFJh16g"
      },
      "execution_count": null,
      "outputs": []
    },
    {
      "cell_type": "markdown",
      "source": [
        "### Dataset Loading"
      ],
      "metadata": {
        "id": "Va-U85KViBN_"
      }
    },
    {
      "cell_type": "code",
      "source": [
        "# Load Dataset\n",
        "url = 'https://drive.google.com/file/d/1ioU5r9KEYSfwgfUi22SclVkx4l1a_8ou/view?usp=sharing'\n",
        "url = 'https://drive.google.com/uc?id=' + url.split('/')[-2]\n",
        "airbnb_data = pd.read_csv(url)"
      ],
      "metadata": {
        "id": "vhF-LlOniEW9"
      },
      "execution_count": null,
      "outputs": []
    },
    {
      "cell_type": "markdown",
      "source": [],
      "metadata": {
        "id": "AcMx4lbrgshA"
      }
    },
    {
      "cell_type": "markdown",
      "source": [
        "*  id - unique listing id\n",
        "*  Name - Represents Accommodations\n",
        "*  Host id - Unique id for hosts\n",
        "*  Host Name - Registerd name for hosts\n",
        "*  Neighbourhood Group - Group of area/Locations\n",
        "*  Neighbourhood - Area under neighbourhood group\n",
        "*  Latitude - location of listing\n",
        "*  Longitude - location of listing\n",
        "*  Room Type - unique types of each room \n",
        "*  Price - price of properties in dollar\n",
        "*  Minimum Nights - minimum nights stay required for single visit\n",
        "*  Number Of Reviews - total rating \n",
        "*  Last review - latest review given\n",
        "*  Reviews Per Months - ratings recieved per month\n",
        "*  Calculated Host Listings Count - total number of properties registerd under hosts\n",
        "*  Avaliability_365 - number of days for which host is available in a year for bookings\n"
      ],
      "metadata": {
        "id": "j-QPEJY9eQJK"
      }
    },
    {
      "cell_type": "markdown",
      "source": [
        "Numeric Variable\n",
        "\n",
        "    host_id\n",
        "    latitude                       \n",
        "    longitude  \n",
        "    price \n",
        "    minimum_nights    \n",
        "    number_of_reviews                \n",
        "    reviews_per_month               \n",
        "    calculated_host_listings_count  \n",
        "    availability_365 \n",
        "\n",
        "\n"
      ],
      "metadata": {
        "id": "9oe1RFygebpJ"
      }
    },
    {
      "cell_type": "markdown",
      "source": [
        "Catagorical Variable\n",
        "\n",
        "    name\n",
        "    host_name                       \n",
        "    neighbourhood_group              \n",
        "    neighbourhood\n",
        "    room_type    "
      ],
      "metadata": {
        "id": "gijgN2cXeeiG"
      }
    },
    {
      "cell_type": "markdown",
      "source": [
        "### Check Unique Values for each variable.\n",
        "\n",
        "\n"
      ],
      "metadata": {
        "id": "Zonn37xmekcj"
      }
    },
    {
      "cell_type": "code",
      "source": [
        "# Check Unique Values for each variable.\n",
        "for unique_value in airbnb_data.columns:\n",
        "  print(\"Unique values in\",unique_value,\"column is\",airbnb_data[unique_value].nunique(),\".\")"
      ],
      "metadata": {
        "id": "9NB27u_2eoAW"
      },
      "execution_count": null,
      "outputs": []
    },
    {
      "cell_type": "code",
      "source": [
        "print('Unique values in neighbourhood_group is:',airbnb_data['neighbourhood_group'].unique())\n",
        "print('Unique values in room_type is:',airbnb_data['room_type'].unique())"
      ],
      "metadata": {
        "id": "dLhnWhBwetuc"
      },
      "execution_count": null,
      "outputs": []
    },
    {
      "cell_type": "markdown",
      "source": [
        "## 3. ***Data Wrangling***"
      ],
      "metadata": {
        "id": "6cOlKpbQ53Tq"
      }
    },
    {
      "cell_type": "markdown",
      "source": [
        "### Data Wrangling Code"
      ],
      "metadata": {
        "id": "HOHqkzZr6GP0"
      }
    },
    {
      "cell_type": "markdown",
      "source": [
        "###<B>1. Which room type and locality are mostly in demand in NYC ?"
      ],
      "metadata": {
        "id": "HoawqD7RJxnT"
      }
    },
    {
      "cell_type": "code",
      "source": [
        "# Write your code to make your dataset analysis ready.\n",
        "# Most demanded room type\n",
        "airbnb_data['room_type'].value_counts()"
      ],
      "metadata": {
        "id": "CNpLIIxHJ0Ve"
      },
      "execution_count": null,
      "outputs": []
    },
    {
      "cell_type": "code",
      "source": [
        "# room type feature's mean price\n",
        "airbnb_data.groupby('room_type')['price'].mean()"
      ],
      "metadata": {
        "id": "EUQaWkIdJ-un"
      },
      "execution_count": null,
      "outputs": []
    },
    {
      "cell_type": "markdown",
      "source": [
        "Mostly demanded room type is either an entire home with the average price of more than 200 dollar or a private room with the average price of more than 85 dollar. While shared room is cheapest and more avaliable with the average price of 70$ approx. So it is clear that most of the guests prefers Entire home or apartment to stay."
      ],
      "metadata": {
        "id": "5KXHxZR4KBHW"
      }
    },
    {
      "cell_type": "code",
      "source": [
        "# Most demanded locality\n",
        "airbnb_data['neighbourhood_group'].value_counts()"
      ],
      "metadata": {
        "id": "DPG3lGxeKDuq"
      },
      "execution_count": null,
      "outputs": []
    },
    {
      "cell_type": "markdown",
      "source": [
        "Manhattan neighbourhood group is most demanded locality followed by Brooklyn & Queens. While Bronx & Staten Island is least demanded localities."
      ],
      "metadata": {
        "id": "8tFdr-XFKFli"
      }
    },
    {
      "cell_type": "markdown",
      "source": [
        "###**2. Top 10 Host with most properties/listing on airbnb website.**"
      ],
      "metadata": {
        "id": "9cOfnKKKKJPJ"
      }
    },
    {
      "cell_type": "code",
      "source": [
        "# Top Most Host With maximum Properties\n",
        "top10_host_details = airbnb_data['host_id'].value_counts().head(15)\n",
        "top10_host_details"
      ],
      "metadata": {
        "id": "AMj8624eKLhv"
      },
      "execution_count": null,
      "outputs": []
    },
    {
      "cell_type": "code",
      "source": [
        "# creating dataframe for top most host with max properties\n",
        "top10_host_df = pd.DataFrame(top10_host_details)\n",
        "top10_host_df.reset_index(inplace=True)\n",
        "top10_host_df.rename(columns={'index' : 'Host_id', 'host_id':'no_of_properties'}, inplace=True)\n",
        "top10_host_df.head(10)"
      ],
      "metadata": {
        "id": "OTKuQiAPKOup"
      },
      "execution_count": null,
      "outputs": []
    },
    {
      "cell_type": "code",
      "source": [
        "#details of toppest host \n",
        "airbnb_data[airbnb_data['host_id'] == 219517861].head(1)"
      ],
      "metadata": {
        "id": "5Q7bjKWGKQeS"
      },
      "execution_count": null,
      "outputs": []
    },
    {
      "cell_type": "code",
      "source": [
        "#details of second toppest host\n",
        "airbnb_data[airbnb_data['host_id'] == 107434423].head(1)"
      ],
      "metadata": {
        "id": "fEPyn1U5KR8k"
      },
      "execution_count": null,
      "outputs": []
    },
    {
      "cell_type": "markdown",
      "source": [
        "So, Sonder(NYC) has the maximum number of \n",
        "listing on airbnb platform and also leads the most expensive neighbourhood group in New York city followed by Blueground with 232 properties on airbnb."
      ],
      "metadata": {
        "id": "P2ZMRm-dKUHN"
      }
    },
    {
      "cell_type": "markdown",
      "source": [
        "###<B>3. Top 10 most reviewed properties/listings on airbnb. "
      ],
      "metadata": {
        "id": "DQf0YxzFKa-h"
      }
    },
    {
      "cell_type": "code",
      "source": [
        "#top 10 most reviewed listings \n",
        "top10_reviewed_listings= airbnb_data.nlargest(10,'reviews_per_month')[['name','reviews_per_month','neighbourhood_group','price']]\n",
        "top10_reviewed_listings"
      ],
      "metadata": {
        "id": "amoN8-mKMjkZ"
      },
      "execution_count": null,
      "outputs": []
    },
    {
      "cell_type": "markdown",
      "source": [
        "Property with highest number of reviews is Enjoy great views of the City in our Deluxe Room! with 58 reviews/month followed by Great Room in the heart of Times Square! with 27 reviews/month that is from Manhattan.\n",
        "\n",
        "So that Manhattan is the best suited place for a comfortable stay but the prices are also high."
      ],
      "metadata": {
        "id": "eWRK7e0wMnFx"
      }
    },
    {
      "cell_type": "markdown",
      "source": [
        "###<B>4. Which Property type and room type is cheapest and more available on airbnb ?"
      ],
      "metadata": {
        "id": "GFWukv3CMq9p"
      }
    },
    {
      "cell_type": "code",
      "source": [
        "# Most cheapest listings in each neighbourhood groups\n",
        "most_cheapest_neighgroup = airbnb_data.loc[airbnb_data.groupby(['neighbourhood_group'])['price'].idxmin()][['name','neighbourhood_group','host_name','room_type','price']].sort_values(by='price',ascending=False)\n",
        "most_cheapest_neighgroup"
      ],
      "metadata": {
        "id": "7-hML9KRMt9V"
      },
      "execution_count": null,
      "outputs": []
    },
    {
      "cell_type": "markdown",
      "source": [
        "Most cheapest listing is from IT'S SIMPLY CONVENIENT! and Happy Home 3 which is from Queens and Staten Island hosted by Maria and Raquel respectively. As it is cheap property so it will be more available for the customers.\n",
        "\n",
        "Some of the properties having a price of zero which is either a free stay for specific time or the willingness of not to share the price with the Airbnb."
      ],
      "metadata": {
        "id": "NQY1PPCKMxad"
      }
    },
    {
      "cell_type": "markdown",
      "source": [
        "###<B>5. What is the average price/day of Airbnb listings with respect to neighbourhoods in NYC ? (Top neighbourhoods in NYC)"
      ],
      "metadata": {
        "id": "rqncQoAPM5xL"
      }
    },
    {
      "cell_type": "code",
      "source": [
        "# Avg price wrt neighbourhood neighbour\n",
        "# expensive neighbourhood \n",
        "df_ngroup= airbnb_data.groupby(['neighbourhood'])['price'].mean().reset_index()\n",
        "#df_ngroup.head()\n",
        "df_ngroup_sorted = df_ngroup.sort_values(by='price', ascending=False)\n",
        "df_ngroup_sorted"
      ],
      "metadata": {
        "id": "D4iCDhK_M6im"
      },
      "execution_count": null,
      "outputs": []
    },
    {
      "cell_type": "markdown",
      "source": [
        "###<B>6. Properties with less number of reviews."
      ],
      "metadata": {
        "id": "Xml9OZebNVP7"
      }
    },
    {
      "cell_type": "code",
      "source": [
        "pro_reviews = airbnb_data[(airbnb_data['reviews_per_month']<3)] \n",
        "pro_reviews[['name','reviews_per_month','neighbourhood','neighbourhood_group']]"
      ],
      "metadata": {
        "id": "G094IEGqNZBx"
      },
      "execution_count": null,
      "outputs": []
    },
    {
      "cell_type": "markdown",
      "source": [
        "As we see there are more than 32000 properties which have rating less than 3"
      ],
      "metadata": {
        "id": "xE9s51sRNbGm"
      }
    },
    {
      "cell_type": "markdown",
      "source": [
        "###<B>7. Any Particular Neighbourhood/Location with Maximum no. of Bookings and revenue from room type ?"
      ],
      "metadata": {
        "id": "Yxm0ZcN4NdrA"
      }
    },
    {
      "cell_type": "code",
      "source": [
        "max_bookings = airbnb_data['neighbourhood'].value_counts()\n",
        "max_bookings"
      ],
      "metadata": {
        "id": "1ogTDotPNgBg"
      },
      "execution_count": null,
      "outputs": []
    },
    {
      "cell_type": "code",
      "source": [
        "#max booking wrt roomtype \n",
        "df = airbnb_data.groupby(['neighbourhood','room_type']).agg({'price':'sum'})\n",
        "df.sort_values(\"price\",ascending=False).head()"
      ],
      "metadata": {
        "id": "uiABlCJwNiPe"
      },
      "execution_count": null,
      "outputs": []
    },
    {
      "cell_type": "markdown",
      "source": [
        "Williamsburg Location has more demand and maximum no. of bookings which has a expensive room type with the maximum price followed by Midtown, Upper West Side respectively."
      ],
      "metadata": {
        "id": "AMDy63xPNkNv"
      }
    },
    {
      "cell_type": "markdown",
      "source": [
        "###<B>8. Top 10 most reviewed properties/listings on airbnb. "
      ],
      "metadata": {
        "id": "nWCsxyofNtxj"
      }
    },
    {
      "cell_type": "code",
      "source": [
        "#top 10 most reviewed listings \n",
        "top10_reviewed_listings= airbnb_data.nlargest(10,'reviews_per_month')[['name','reviews_per_month','neighbourhood_group','price']]\n",
        "top10_reviewed_listings"
      ],
      "metadata": {
        "id": "Sko22Rn1Nv2-"
      },
      "execution_count": null,
      "outputs": []
    },
    {
      "cell_type": "markdown",
      "source": [
        "Property with highest number of reviews is Enjoy great views of the City in our Deluxe Room! with 58 reviews/month followed by Great Room in the heart of Times Square! with 27 reviews/month that is from Manhattan.\n",
        "\n",
        "So that Manhattan is the best suited place for a comfortable stay but the prices are also high."
      ],
      "metadata": {
        "id": "mOC6ggPDNzZL"
      }
    },
    {
      "cell_type": "markdown",
      "source": [
        "### What all manipulations have you done and insights you found?"
      ],
      "metadata": {
        "id": "ZIi-SMF-N5h2"
      }
    },
    {
      "cell_type": "markdown",
      "source": [
        "In the data wrangling process, we have analyzed different use cases based on locality, reviews, room type etc, from which we can clearly infere that Manhatten Neighbourhood group has the most expensive and luxurious entire home/apartments with maximum number of rewiews. Rather than it, most of the number of bookings were takes place in Williamsburg Location. We have also analyzed top 10 earner in terms of hosts and average price per day of the listing with respect to neighboorhood."
      ],
      "metadata": {
        "id": "0dIUjZsAN8il"
      }
    },
    {
      "cell_type": "markdown",
      "source": [
        "## ***4. Data Vizualization, Storytelling & Experimenting with charts : Understand the relationships between variables***"
      ],
      "metadata": {
        "id": "yBTBD0XvOAXN"
      }
    }
  ]
}