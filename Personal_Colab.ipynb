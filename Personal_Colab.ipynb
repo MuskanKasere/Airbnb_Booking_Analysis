{
  "nbformat": 4,
  "nbformat_minor": 0,
  "metadata": {
    "colab": {
      "provenance": [],
      "authorship_tag": "ABX9TyO5QYIyvGuI9curn5HoLK4V",
      "include_colab_link": true
    },
    "kernelspec": {
      "name": "python3",
      "display_name": "Python 3"
    },
    "language_info": {
      "name": "python"
    }
  },
  "cells": [
    {
      "cell_type": "markdown",
      "metadata": {
        "id": "view-in-github",
        "colab_type": "text"
      },
      "source": [
        "<a href=\"https://colab.research.google.com/github/MuskanKasere/Airbnb_Booking_Analysis/blob/main/Personal_Colab.ipynb\" target=\"_parent\"><img src=\"https://colab.research.google.com/assets/colab-badge.svg\" alt=\"Open In Colab\"/></a>"
      ]
    },
    {
      "cell_type": "code",
      "execution_count": null,
      "metadata": {
        "id": "9A2gnr0KeOpt"
      },
      "outputs": [],
      "source": []
    },
    {
      "cell_type": "markdown",
      "source": [
        "*  id - unique listing id\n",
        "*  Name - Represents Accommodations\n",
        "*  Host id - Unique id for hosts\n",
        "*  Host Name - Registerd name for hosts\n",
        "*  Neighbourhood Group - Group of area/Locations\n",
        "*  Neighbourhood - Area under neighbourhood group\n",
        "*  Latitude - location of listing\n",
        "*  Longitude - location of listing\n",
        "*  Room Type - unique types of each room \n",
        "*  Price - price of properties in dollar\n",
        "*  Minimum Nights - minimum nights stay required for single visit\n",
        "*  Number Of Reviews - total rating \n",
        "*  Last review - latest review given\n",
        "*  Reviews Per Months - ratings recieved per month\n",
        "*  Calculated Host Listings Count - total number of properties registerd under hosts\n",
        "*  Avaliability_365 - number of days for which host is available in a year for bookings\n"
      ],
      "metadata": {
        "id": "j-QPEJY9eQJK"
      }
    },
    {
      "cell_type": "markdown",
      "source": [
        "Numeric Variable\n",
        "\n",
        "    host_id\n",
        "    latitude                       \n",
        "    longitude  \n",
        "    price \n",
        "    minimum_nights    \n",
        "    number_of_reviews                \n",
        "    reviews_per_month               \n",
        "    calculated_host_listings_count  \n",
        "    availability_365 \n",
        "\n",
        "\n"
      ],
      "metadata": {
        "id": "9oe1RFygebpJ"
      }
    },
    {
      "cell_type": "markdown",
      "source": [
        "Catagorical Variable\n",
        "\n",
        "    name\n",
        "    host_name                       \n",
        "    neighbourhood_group              \n",
        "    neighbourhood\n",
        "    room_type    "
      ],
      "metadata": {
        "id": "gijgN2cXeeiG"
      }
    },
    {
      "cell_type": "markdown",
      "source": [
        "### Check Unique Values for each variable.\n",
        "\n",
        "\n"
      ],
      "metadata": {
        "id": "Zonn37xmekcj"
      }
    },
    {
      "cell_type": "code",
      "source": [
        "# Check Unique Values for each variable.\n",
        "for unique_value in airbnb_data.columns:\n",
        "  print(\"Unique values in\",unique_value,\"column is\",airbnb_data[unique_value].nunique(),\".\")"
      ],
      "metadata": {
        "id": "9NB27u_2eoAW"
      },
      "execution_count": null,
      "outputs": []
    },
    {
      "cell_type": "code",
      "source": [
        "print('Unique values in neighbourhood_group is:',airbnb_data['neighbourhood_group'].unique())\n",
        "print('Unique values in room_type is:',airbnb_data['room_type'].unique())"
      ],
      "metadata": {
        "id": "dLhnWhBwetuc"
      },
      "execution_count": null,
      "outputs": []
    },
    {
      "cell_type": "markdown",
      "source": [
        "## 3. ***Data Wrangling***"
      ],
      "metadata": {
        "id": "6cOlKpbQ53Tq"
      }
    },
    {
      "cell_type": "markdown",
      "source": [
        "### Data Wrangling Code"
      ],
      "metadata": {
        "id": "HOHqkzZr6GP0"
      }
    }
  ]
}