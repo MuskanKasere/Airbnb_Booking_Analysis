{
  "nbformat": 4,
  "nbformat_minor": 0,
  "metadata": {
    "colab": {
      "provenance": [],
      "authorship_tag": "ABX9TyOG09hCWEcTr7gFLccvxUH6",
      "include_colab_link": true
    },
    "kernelspec": {
      "name": "python3",
      "display_name": "Python 3"
    },
    "language_info": {
      "name": "python"
    }
  },
  "cells": [
    {
      "cell_type": "markdown",
      "metadata": {
        "id": "view-in-github",
        "colab_type": "text"
      },
      "source": [
        "<a href=\"https://colab.research.google.com/github/MuskanKasere/Airbnb_Booking_Analysis/blob/main/Airbnb_Booking.ipynb\" target=\"_parent\"><img src=\"https://colab.research.google.com/assets/colab-badge.svg\" alt=\"Open In Colab\"/></a>"
      ]
    },
    {
      "cell_type": "markdown",
      "source": [
        "# **Project Name**    -   **AirBnB Booking Analysis**\n"
      ],
      "metadata": {
        "id": "7t5_4ntZXTgt"
      }
    },
    {
      "cell_type": "markdown",
      "source": [],
      "metadata": {
        "id": "LoQRHL4fKmOm"
      }
    },
    {
      "cell_type": "markdown",
      "source": [
        "##### **Project Type** - EDA\n",
        "##### **Contribution** - Team\n",
        "##### **Team Member 1 -** Vinayak Vijay Marathe\n",
        "##### **Team Member 2 -** Riya Patel\n",
        "##### **Team Member 3 -** Muskan Kasere"
      ],
      "metadata": {
        "id": "4VsQyEqmXYl4"
      }
    },
    {
      "cell_type": "markdown",
      "source": [
        "# **Project Summary -**\n",
        "\n",
        "> Indented block\n"
      ],
      "metadata": {
        "id": "WiUAa5gHXanX"
      }
    },
    {
      "cell_type": "markdown",
      "source": [
        "AirBnb is a brief identify for **\"Air Bed and Breakfast\"**, is a online hospitality company focused on short time length homestays or rental platform.\n",
        "\n",
        "On airbnb, users can book a nearby to stay as accordance to their convinent in more than 34000+ cities at some aspect of 200+ countries. Airbnb used to started in 2008 by Brian Chesky and Joe Gebbia, specifically based in San Francisco California. Airbnb platform is reachable via mobile app and website.\n",
        "\n",
        "In our project, there is 16 columns which has hosts, host_name, neighbourhood_group, neighbourhood, room_type etc and 48895 rows which has all the information about airbnb's hosts. This datasets also have some null values which are handled by us. We can also see the overall details of NYC using the map."
      ],
      "metadata": {
        "id": "rDuytw6AXegI"
      }
    },
    {
      "cell_type": "markdown",
      "source": [
        "# **GitHub Link -**"
      ],
      "metadata": {
        "id": "AJlJHS4dXjsM"
      }
    },
    {
      "cell_type": "markdown",
      "source": [
        "Provide your GitHub Link here.\n",
        "\n",
        "1.   Vinayak Marathe: https://github.com/v1git12\n",
        "2.   Riya Patel: https://github.com/riyapatelrp\n",
        "3.   Muskan Kasere: https://github.com/MuskanKasere"
      ],
      "metadata": {
        "id": "YAwYS4NtXn9Z"
      }
    },
    {
      "cell_type": "markdown",
      "source": [
        "# **Problem Statement**\n"
      ],
      "metadata": {
        "id": "1-otUy1ZXwvV"
      }
    },
    {
      "cell_type": "markdown",
      "source": [
        "The objective of the project is to perform an exploratory data analysis, data pre-processing, data cleaning & imputation and at the end, apply different Data Visualization techniques to get the meaningful insight from the given data. This project aims apply some amazing Python Libraries such as Folium and WordCloud which will give a boost to our visual understanding of the data.\n",
        "\n",
        "These thousands and lots of records generate a lot of statistics/data and this data can be analyzed, used for security, grasp of customers/providers behavior, buisness preferences & performance on the platform, implementation of modern additional service and for a lots of things. we are analyzing the various aspects with different use cases which covers many aspects of airbnb listings.\n",
        "\n"
      ],
      "metadata": {
        "id": "kH1G_ZHOX3vU"
      }
    },
    {
      "cell_type": "markdown",
      "source": [
        "#### **Define Your Business Objective?**"
      ],
      "metadata": {
        "id": "lM7MaA3VX6vn"
      }
    },
    {
      "cell_type": "markdown",
      "source": [
        "To Analyze the Buisness Trends and Customer's Views/Satisfaction"
      ],
      "metadata": {
        "id": "7Dxt_t3zX-A6"
      }
    },
    {
      "cell_type": "markdown",
      "source": [
        "# **General Guidelines** : -  "
      ],
      "metadata": {
        "id": "F1o-7u7IYCSS"
      }
    },
    {
      "cell_type": "markdown",
      "source": [
        "1.   Well-structured, formatted, and commented code is required. \n",
        "2.   Exception Handling, Production Grade Code & Deployment Ready Code will be a plus. Those students will be awarded some additional credits. \n",
        "     \n",
        "     The additional credits will have advantages over other students during Star Student selection.\n",
        "       \n",
        "             [ Note: - Deployment Ready Code is defined as, the whole .ipynb notebook should be executable in one go\n",
        "                       without a single error logged. ]\n",
        "\n",
        "3.   Each and every logic should have proper comments.\n",
        "4. You may add as many number of charts you want. Make Sure for each and every chart the following format should be answered.\n",
        "        \n",
        "\n",
        "```\n",
        "# Chart visualization code\n",
        "```\n",
        "            \n",
        "\n",
        "*   Why did you pick the specific chart?\n",
        "*   What is/are the insight(s) found from the chart?\n",
        "* Will the gained insights help creating a positive business impact? \n",
        "Are there any insights that lead to negative growth? Justify with specific reason.\n",
        "\n",
        "5. You have to create at least 20 logical & meaningful charts having important insights.\n",
        "\n",
        "\n",
        "[ Hints : - Do the Vizualization in  a structured way while following \"UBM\" Rule. \n",
        "\n",
        "U - Univariate Analysis,\n",
        "\n",
        "B - Bivariate Analysis (Numerical - Categorical, Numerical - Numerical, Categorical - Categorical)\n",
        "\n",
        "M - Multivariate Analysis\n",
        " ]\n",
        "\n",
        "\n",
        "\n"
      ],
      "metadata": {
        "id": "2NTCPsOJYF7E"
      }
    },
    {
      "cell_type": "markdown",
      "source": [
        "# ***Let's Begin !***"
      ],
      "metadata": {
        "id": "sJIZw1SUYKIi"
      }
    },
    {
      "cell_type": "markdown",
      "source": [
        "## ***1. Know Your Data***"
      ],
      "metadata": {
        "id": "ZV6F6NdHYO9c"
      }
    },
    {
      "cell_type": "markdown",
      "source": [
        "### Import Libraries"
      ],
      "metadata": {
        "id": "dW-DBfITYPt1"
      }
    },
    {
      "cell_type": "code",
      "source": [
        "# Import Libraries\n",
        "import numpy as np\n",
        "import pandas as pd\n",
        "import matplotlib.pyplot as plt\n",
        "%matplotlib inline\n",
        "import seaborn as sns\n",
        "\n",
        "#for new york city map\n",
        "import folium\n",
        "from folium.plugins import FastMarkerCluster"
      ],
      "metadata": {
        "id": "h5CQByTZYUze"
      },
      "execution_count": null,
      "outputs": []
    },
    {
      "cell_type": "markdown",
      "source": [
        "### Dataset Loading"
      ],
      "metadata": {
        "id": "DaDdK_XEYXEA"
      }
    },
    {
      "cell_type": "code",
      "source": [
        "# Load Dataset\n",
        "url = 'https://drive.google.com/file/d/1ioU5r9KEYSfwgfUi22SclVkx4l1a_8ou/view?usp=sharing'\n",
        "url = 'https://drive.google.com/uc?id=' + url.split('/')[-2]\n",
        "airbnb_data = pd.read_csv(url)"
      ],
      "metadata": {
        "id": "2Jf_v6LQYZbU"
      },
      "execution_count": null,
      "outputs": []
    },
    {
      "cell_type": "markdown",
      "source": [
        "### Dataset First View"
      ],
      "metadata": {
        "id": "6dNDDkIVYbwP"
      }
    },
    {
      "cell_type": "code",
      "source": [
        "# Dataset First Look\n",
        "airbnb_data.head()"
      ],
      "metadata": {
        "id": "kQkic5mqYfpW"
      },
      "execution_count": null,
      "outputs": []
    },
    {
      "cell_type": "markdown",
      "source": [
        "### Dataset Rows & Columns count"
      ],
      "metadata": {
        "id": "BabK4kSoYjCJ"
      }
    },
    {
      "cell_type": "code",
      "source": [
        "# Dataset Rows & Columns count\n",
        "airbnb_data.shape"
      ],
      "metadata": {
        "id": "ATwTttXzYmCP"
      },
      "execution_count": null,
      "outputs": []
    },
    {
      "cell_type": "markdown",
      "source": [
        "### Dataset Information"
      ],
      "metadata": {
        "id": "kQXEpKcdYo84"
      }
    },
    {
      "cell_type": "code",
      "source": [
        "# Dataset Info\n",
        "airbnb_data.info()"
      ],
      "metadata": {
        "id": "rLtLqMdYYq1i"
      },
      "execution_count": null,
      "outputs": []
    },
    {
      "cell_type": "code",
      "source": [
        "# Visualizing datasets on a map for easy understanding of individual location of NYC\n",
        "# Here we pass coordinates of location (latitudes = 40.72 and longitude = -73.95)\n",
        "locations = list(zip(airbnb_data.latitude, airbnb_data.longitude))\n",
        "\n",
        "map1 = folium.Map(width=800,height=400,location=[40.72,-73.95], zoom_start=5)\n",
        "FastMarkerCluster(data=locations).add_to(map1)\n",
        "map1"
      ],
      "metadata": {
        "id": "Keyr5HuTYxJ_"
      },
      "execution_count": null,
      "outputs": []
    },
    {
      "cell_type": "markdown",
      "source": [
        "#### Duplicate Values"
      ],
      "metadata": {
        "id": "iTDHg3nyYzWq"
      }
    },
    {
      "cell_type": "code",
      "source": [
        "# Dataset Duplicate Value Count\n",
        "len(airbnb_data[airbnb_data.duplicated()])"
      ],
      "metadata": {
        "id": "ZNlvaGF8Y1uj"
      },
      "execution_count": null,
      "outputs": []
    },
    {
      "cell_type": "markdown",
      "source": [
        "#### Missing Values/Null Values"
      ],
      "metadata": {
        "id": "qPcX2qyKY4Py"
      }
    },
    {
      "cell_type": "code",
      "source": [
        "# Missing Values/Null Values Count\n",
        "airbnb_data.isnull().sum()"
      ],
      "metadata": {
        "id": "-nEKt-BrY6gs"
      },
      "execution_count": null,
      "outputs": []
    },
    {
      "cell_type": "code",
      "source": [
        "# Visualizing the missing values\n",
        "plt.figure(figsize = (10,8))\n",
        "sns.heatmap(airbnb_data.isnull())\n",
        "plt.show()"
      ],
      "metadata": {
        "id": "tFSDotQ1Y8wm"
      },
      "execution_count": null,
      "outputs": []
    },
    {
      "cell_type": "code",
      "source": [
        "# Droping the data that are not of interest\n",
        "airbnb_data.drop(['id','last_review'], axis=1, inplace=True)\n",
        "airbnb_data.head(3)"
      ],
      "metadata": {
        "id": "Gn253AQ0Y_E2"
      },
      "execution_count": null,
      "outputs": []
    },
    {
      "cell_type": "code",
      "source": [
        "# Replacing all NaN values \n",
        "airbnb_data.fillna({'reviews_per_month':0}, inplace=True)\n",
        "airbnb_data.fillna({'name':'unknown'}, inplace = True)\n",
        "airbnb_data.fillna({'host_name':'unknown'}, inplace = True)"
      ],
      "metadata": {
        "id": "7_bO3ktYZB8F"
      },
      "execution_count": null,
      "outputs": []
    },
    {
      "cell_type": "code",
      "source": [
        "airbnb_data.head(3)"
      ],
      "metadata": {
        "id": "nm_wP0rVZCvW"
      },
      "execution_count": null,
      "outputs": []
    },
    {
      "cell_type": "code",
      "source": [
        "# Now our data is cleaned\n",
        "airbnb_data.info()"
      ],
      "metadata": {
        "id": "o91gD37vZIsl"
      },
      "execution_count": null,
      "outputs": []
    },
    {
      "cell_type": "markdown",
      "source": [
        "### What did you know about your dataset?"
      ],
      "metadata": {
        "id": "x8miyDSWZLLC"
      }
    },
    {
      "cell_type": "markdown",
      "source": [
        "These datasets of airbnb has a 48895 unique listing in New York city in total. The New York city Airbnb dataset contains a very well curated list of room postings from the New York city. Although it would be nice to have few more features about the rooms, users, comments, etc. I think a great number of task can be acomplished even with the limited number of entries in the dataset, at least, we all can learn something new about the vacation room rental in New York city."
      ],
      "metadata": {
        "id": "LdIBIiDuZNOz"
      }
    },
    {
      "cell_type": "markdown",
      "source": [
        "## ***2. Understanding Your Variables***"
      ],
      "metadata": {
        "id": "yoFcJaGHZQAn"
      }
    },
    {
      "cell_type": "code",
      "source": [
        "# Dataset Columns\n",
        "airbnb_data.columns"
      ],
      "metadata": {
        "id": "Ns-v4CNhdxYR"
      },
      "execution_count": null,
      "outputs": []
    },
    {
      "cell_type": "code",
      "source": [
        "# Dataset Describe of important column only\n",
        "airbnb_data[['price','minimum_nights','number_of_reviews','reviews_per_month','calculated_host_listings_count','availability_365']].describe()"
      ],
      "metadata": {
        "id": "2Emc9bPQd0Pe"
      },
      "execution_count": null,
      "outputs": []
    },
    {
      "cell_type": "markdown",
      "source": [
        "* From this we can see the mean price is around 152 dollars.\n",
        "* Average availablity of an airbnb host around a year is 112 days."
      ],
      "metadata": {
        "id": "n-MlYyGMd4Ca"
      }
    },
    {
      "cell_type": "markdown",
      "source": [
        "### Variables Description "
      ],
      "metadata": {
        "id": "AC86ERR9d5VM"
      }
    },
    {
      "cell_type": "markdown",
      "source": [
        "*  id - unique listing id\n",
        "*  Name - Represents Accommodations\n",
        "*  Host id - Unique id for hosts\n",
        "*  Host Name - Registerd name for hosts\n",
        "*  Neighbourhood Group - Group of area/Locations\n",
        "*  Neighbourhood - Area under neighbourhood group\n",
        "*  Latitude - location of listing\n",
        "*  Longitude - location of listing\n",
        "*  Room Type - unique types of each room \n",
        "*  Price - price of properties in dollar\n",
        "*  Minimum Nights - minimum nights stay required for single visit\n",
        "*  Number Of Reviews - total rating \n",
        "*  Last review - latest review given\n",
        "*  Reviews Per Months - ratings recieved per month\n",
        "*  Calculated Host Listings Count - total number of properties registerd under hosts\n",
        "*  Avaliability_365 - number of days for which host is available in a year for bookings\n"
      ],
      "metadata": {
        "id": "pxYZhtmXd5iU"
      }
    },
    {
      "cell_type": "markdown",
      "source": [],
      "metadata": {
        "id": "9p-S78eOeAp5"
      }
    },
    {
      "cell_type": "markdown",
      "source": [
        "Numeric Variable\n",
        "\n",
        "    host_id\n",
        "    latitude                       \n",
        "    longitude  \n",
        "    price \n",
        "    minimum_nights    \n",
        "    number_of_reviews                \n",
        "    reviews_per_month               \n",
        "    calculated_host_listings_count  \n",
        "    availability_365 \n",
        "\n",
        "\n"
      ],
      "metadata": {
        "id": "ZRcWAhFlea5O"
      }
    },
    {
      "cell_type": "markdown",
      "source": [
        "Catagorical Variable\n",
        "\n",
        "    name\n",
        "    host_name                       \n",
        "    neighbourhood_group              \n",
        "    neighbourhood\n",
        "    room_type    "
      ],
      "metadata": {
        "id": "fILMAifZedsc"
      }
    },
    {
      "cell_type": "markdown",
      "source": [
        "### Check Unique Values for each variable.\n",
        "\n",
        "\n"
      ],
      "metadata": {
        "id": "qzTh02q2ejiH"
      }
    },
    {
      "cell_type": "code",
      "source": [
        "# Check Unique Values for each variable.\n",
        "for unique_value in airbnb_data.columns:\n",
        "  print(\"Unique values in\",unique_value,\"column is\",airbnb_data[unique_value].nunique(),\".\")"
      ],
      "metadata": {
        "id": "gWHDn_OPenLA"
      },
      "execution_count": null,
      "outputs": []
    },
    {
      "cell_type": "code",
      "source": [
        "print('Unique values in neighbourhood_group is:',airbnb_data['neighbourhood_group'].unique())\n",
        "print('Unique values in room_type is:',airbnb_data['room_type'].unique())"
      ],
      "metadata": {
        "id": "R3gL3E93es7Q"
      },
      "execution_count": null,
      "outputs": []
    },
    {
      "cell_type": "markdown",
      "source": [
        "## 3. ***Data Wrangling***"
      ],
      "metadata": {
        "id": "Si98XUAs6BA9"
      }
    },
    {
      "cell_type": "markdown",
      "source": [
        "### Data Wrangling Code"
      ],
      "metadata": {
        "id": "Zga_EFfk6EAg"
      }
    },
    {
      "cell_type": "markdown",
      "source": [
        "###<B>1. Which room type and locality are mostly in demand in NYC ?"
      ],
      "metadata": {
        "id": "gCMqhIh76UzA"
      }
    },
    {
      "cell_type": "code",
      "source": [
        "# Write your code to make your dataset analysis ready.\n",
        "# Most demanded room type\n",
        "airbnb_data['room_type'].value_counts()"
      ],
      "metadata": {
        "id": "u0pcWydX6Ykc"
      },
      "execution_count": null,
      "outputs": []
    },
    {
      "cell_type": "code",
      "source": [
        "# room type feature's mean price\n",
        "airbnb_data.groupby('room_type')['price'].mean()"
      ],
      "metadata": {
        "id": "MN1j-Kv_6bMx"
      },
      "execution_count": null,
      "outputs": []
    },
    {
      "cell_type": "markdown",
      "source": [
        "Mostly demanded room type is either an entire home with the average price of more than 200 dollar or a private room with the average price of more than 85 dollar. While shared room is cheapest and more avaliable with the average price of 70$ approx. So it is clear that most of the guests prefers Entire home or apartment to stay."
      ],
      "metadata": {
        "id": "zA7YxLXA6dj4"
      }
    },
    {
      "cell_type": "code",
      "source": [
        "# Most demanded locality\n",
        "airbnb_data['neighbourhood_group'].value_counts()"
      ],
      "metadata": {
        "id": "EfWYdAHt6fi7"
      },
      "execution_count": null,
      "outputs": []
    },
    {
      "cell_type": "markdown",
      "source": [
        "###**2. Top 10 Host with most properties/listing on airbnb website.**"
      ],
      "metadata": {
        "id": "el0RIhJg6iFT"
      }
    },
    {
      "cell_type": "code",
      "source": [
        "# Top Most Host With maximum Properties\n",
        "top10_host_details = airbnb_data['host_id'].value_counts().head(15)\n",
        "top10_host_details"
      ],
      "metadata": {
        "id": "U7n2fJfh6kAP"
      },
      "execution_count": null,
      "outputs": []
    },
    {
      "cell_type": "code",
      "source": [
        "# creating dataframe for top most host with max properties\n",
        "top10_host_df = pd.DataFrame(top10_host_details)\n",
        "top10_host_df.reset_index(inplace=True)\n",
        "top10_host_df.rename(columns={'index' : 'Host_id', 'host_id':'no_of_properties'}, inplace=True)\n",
        "top10_host_df.head(10)"
      ],
      "metadata": {
        "id": "qbwJruF36m__"
      },
      "execution_count": null,
      "outputs": []
    },
    {
      "cell_type": "code",
      "source": [
        "#details of toppest host \n",
        "airbnb_data[airbnb_data['host_id'] == 219517861].head(1)"
      ],
      "metadata": {
        "id": "QAS4rjnu6olj"
      },
      "execution_count": null,
      "outputs": []
    },
    {
      "cell_type": "code",
      "source": [
        "#details of second toppest host\n",
        "airbnb_data[airbnb_data['host_id'] == 107434423].head(1)"
      ],
      "metadata": {
        "id": "1pmqYj1z6qBo"
      },
      "execution_count": null,
      "outputs": []
    },
    {
      "cell_type": "markdown",
      "source": [
        "So, Sonder(NYC) has the maximum number of listing on airbnb platform and also leads the most expensive neighbourhood group in New York city followed by Blueground with 232 properties on airbnb."
      ],
      "metadata": {
        "id": "zxqgni6Y6r_X"
      }
    },
    {
      "cell_type": "markdown",
      "source": [
        "### **3. Top 10 Host with maximum number of reviews on the basis of reviews per months.**"
      ],
      "metadata": {
        "id": "bJNWyq-2Kphi"
      }
    },
    {
      "cell_type": "code",
      "source": [
        "# Top Host With Maximum Reviews\n",
        "top10_host_with_review = airbnb_data.loc[airbnb_data['number_of_reviews'].value_counts(),'host_id']\n",
        "top10_host_with_review"
      ],
      "metadata": {
        "id": "nDk0nm-dKqgT"
      },
      "execution_count": null,
      "outputs": []
    },
    {
      "cell_type": "code",
      "source": [
        "top10_host_with_review_df = pd.DataFrame(top10_host_with_review)\n",
        "top10_host_with_review_df.reset_index(inplace=True)\n",
        "top10_host_with_review_df.rename(columns={'index' :'no_of_reviews', 'host_id' : 'Host_id'}, inplace=True)\n",
        "top10_host_with_review_df.head(10)"
      ],
      "metadata": {
        "id": "vS7fDKBhKt67"
      },
      "execution_count": null,
      "outputs": []
    },
    {
      "cell_type": "code",
      "source": [
        "airbnb_data[airbnb_data['host_id'] == 40532977]"
      ],
      "metadata": {
        "id": "F-EbqMJkKv9n"
      },
      "execution_count": null,
      "outputs": []
    },
    {
      "cell_type": "code",
      "source": [
        "airbnb_data[airbnb_data['host_id'] == 3028267].head(1)"
      ],
      "metadata": {
        "id": "Fv2ttHHCKxoM"
      },
      "execution_count": null,
      "outputs": []
    },
    {
      "cell_type": "markdown",
      "source": [
        "\n",
        "\n",
        "So, Johari leads the most no. of review in neighbourhood group and room type in New York city followed by Vernon."
      ],
      "metadata": {
        "id": "mTNhdxNHK0e_"
      }
    },
    {
      "cell_type": "markdown",
      "source": [
        "###<B>4. Top 10 most reviewed properties/listings on airbnb. "
      ],
      "metadata": {
        "id": "KUIEQYUEK3b1"
      }
    },
    {
      "cell_type": "code",
      "source": [
        "#top 10 most reviewed listings \n",
        "top10_reviewed_listings= airbnb_data.nlargest(10,'reviews_per_month')[['name','reviews_per_month','neighbourhood_group','price']]\n",
        "top10_reviewed_listings"
      ],
      "metadata": {
        "id": "klVNrhk5LKC-"
      },
      "execution_count": null,
      "outputs": []
    },
    {
      "cell_type": "markdown",
      "source": [
        "Property with highest number of reviews is Enjoy great views of the City in our Deluxe Room! with 58 reviews/month followed by Great Room in the heart of Times Square! with 27 reviews/month that is from Manhattan.\n",
        "\n",
        "So that Manhattan is the best suited place for a comfortable stay but the prices are also high."
      ],
      "metadata": {
        "id": "MYlsOodGLMWT"
      }
    },
    {
      "cell_type": "markdown",
      "source": [
        "###<B>5. Top 3 Mostly Expensive Property/listings on airbnb."
      ],
      "metadata": {
        "id": "RiXGSgvtLO75"
      }
    },
    {
      "cell_type": "code",
      "source": [
        "# expensive listings in each neighbourhood groups\n",
        "most_expensive_listing = airbnb_data.loc[airbnb_data.groupby(['neighbourhood_group'])['price'].idxmax()][['name','neighbourhood','neighbourhood_group','host_name','price']].sort_values(by='price',ascending=False)[:5]\n",
        "most_expensive_listing"
      ],
      "metadata": {
        "id": "xVcJDbC_LRRt"
      },
      "execution_count": null,
      "outputs": []
    },
    {
      "cell_type": "code",
      "source": [
        "airbnb_data[airbnb_data['price'] == airbnb_data['price'].max()].head(3)"
      ],
      "metadata": {
        "id": "myGUVUjOLS1z"
      },
      "execution_count": null,
      "outputs": []
    },
    {
      "cell_type": "markdown",
      "source": [
        "Most costly listing is from Luxury 1 bedroom apt. -stunning Manhattan views, 1-BR Lincoln Center and Furnished room in Astoria apartment which is from Manhattan, Brooklyn and Queens hosted by Erin, Jelena and Kathrine respectively."
      ],
      "metadata": {
        "id": "TLyyf4b_LVp2"
      }
    },
    {
      "cell_type": "markdown",
      "source": [
        "###<B>6. Which Property type and room type is cheapest and more available on airbnb ?"
      ],
      "metadata": {
        "id": "thqUjPzoLYNF"
      }
    },
    {
      "cell_type": "code",
      "source": [
        "# Most cheapest listings in each neighbourhood groups\n",
        "most_cheapest_neighgroup = airbnb_data.loc[airbnb_data.groupby(['neighbourhood_group'])['price'].idxmin()][['name','neighbourhood_group','host_name','room_type','price']].sort_values(by='price',ascending=False)\n",
        "most_cheapest_neighgroup"
      ],
      "metadata": {
        "id": "JUieP2VCLadu"
      },
      "execution_count": null,
      "outputs": []
    },
    {
      "cell_type": "markdown",
      "source": [
        "Most cheapest listing is from IT'S SIMPLY CONVENIENT! and Happy Home 3 which is from Queens and Staten Island hosted by Maria and Raquel respectively. As it is cheap property so it will be more available for the customers.\n",
        "\n",
        "Some of the properties having a price of zero which is either a free stay for specific time or the willingness of not to share the price with the Airbnb."
      ],
      "metadata": {
        "id": "iSJn0lBBLcYS"
      }
    },
    {
      "cell_type": "code",
      "source": [
        "airbnb_data.groupby('neighbourhood_group')['room_type'].value_counts().unstack(0)"
      ],
      "metadata": {
        "id": "LQAGpjYRLfcJ"
      },
      "execution_count": null,
      "outputs": []
    },
    {
      "cell_type": "code",
      "source": [
        "share_room_percent = round((len(airbnb_data[airbnb_data['room_type']=='Shared room'])/len(airbnb_data['room_type']))*100, 2)\n",
        "print(f'only {share_room_percent} % preffers Shared Room ')"
      ],
      "metadata": {
        "id": "BmgK3jADLg4_"
      },
      "execution_count": null,
      "outputs": []
    },
    {
      "cell_type": "markdown",
      "source": [
        "###<B>7. What is the average price/day of Airbnb listings with respect to neighbourhoods in NYC ? (Top neighbourhoods in NYC)"
      ],
      "metadata": {
        "id": "Uhde-yUULj1F"
      }
    },
    {
      "cell_type": "code",
      "source": [
        "# Avg price wrt neighbourhood neighbour\n",
        "# expensive neighbourhood \n",
        "df_ngroup= airbnb_data.groupby(['neighbourhood'])['price'].mean().reset_index()\n",
        "#df_ngroup.head()\n",
        "df_ngroup_sorted = df_ngroup.sort_values(by='price', ascending=False)\n",
        "df_ngroup_sorted"
      ],
      "metadata": {
        "id": "DPZIMhPILl8X"
      },
      "execution_count": null,
      "outputs": []
    },
    {
      "cell_type": "code",
      "source": [
        "top_neigh_each= airbnb_data.loc[airbnb_data.groupby('neighbourhood')['price'].idxmax()][['name','host_name','neighbourhood_group','neighbourhood','room_type','price']]\n",
        "#top_neigh_each\n"
      ],
      "metadata": {
        "id": "pjmiqyyALnie"
      },
      "execution_count": null,
      "outputs": []
    },
    {
      "cell_type": "markdown",
      "source": [
        "Among the top neighbourhoods in each neighbourhood groups, top 3 of them are Greenpoint, Upper West Side and Astoria which is from Brooklyn, Manhattan and Queens."
      ],
      "metadata": {
        "id": "TYdLmITvLp9O"
      }
    },
    {
      "cell_type": "markdown",
      "source": [
        "###<B>8. Properties with less number of reviews."
      ],
      "metadata": {
        "id": "pUVKmxJDLuzr"
      }
    },
    {
      "cell_type": "code",
      "source": [
        "pro_reviews = airbnb_data[(airbnb_data['reviews_per_month']<3)] \n",
        "pro_reviews[['name','reviews_per_month','neighbourhood','neighbourhood_group']]"
      ],
      "metadata": {
        "id": "x7Jcqeu4Lxl6"
      },
      "execution_count": null,
      "outputs": []
    },
    {
      "cell_type": "markdown",
      "source": [
        "As we see there are more than 32000 properties which have rating less than 3"
      ],
      "metadata": {
        "id": "L5Fd09pIL0xA"
      }
    },
    {
      "cell_type": "markdown",
      "source": [
        "###<B>9. Any Particular Neighbourhood/Location with Maximum no. of Bookings and revenue from room type ?"
      ],
      "metadata": {
        "id": "V5jADRx9L27I"
      }
    },
    {
      "cell_type": "code",
      "source": [
        "max_bookings = airbnb_data['neighbourhood'].value_counts()\n",
        "max_bookings"
      ],
      "metadata": {
        "id": "ZasIpLq0L5Bb"
      },
      "execution_count": null,
      "outputs": []
    },
    {
      "cell_type": "code",
      "source": [
        "#max booking wrt roomtype \n",
        "df = airbnb_data.groupby(['neighbourhood','room_type']).agg({'price':'sum'})\n",
        "df.sort_values(\"price\",ascending=False).head()"
      ],
      "metadata": {
        "id": "gbE1K7VZL6rz"
      },
      "execution_count": null,
      "outputs": []
    },
    {
      "cell_type": "markdown",
      "source": [
        "Williamsburg Location has more demand and maximum no. of bookings which has a expensive room type with the maximum price followed by Midtown, Upper West Side respectively."
      ],
      "metadata": {
        "id": "dZkiw31yL8sf"
      }
    },
    {
      "cell_type": "markdown",
      "source": [
        "### What all manipulations have you done and insights you found?"
      ],
      "metadata": {
        "id": "iCucPJp1L-9f"
      }
    },
    {
      "cell_type": "markdown",
      "source": [
        "In the data wrangling process, we have analyzed different use cases based on locality, reviews, room type etc, from which we can clearly infere that Manhatten Neighbourhood group has the most expensive and luxurious entire home/apartments with maximum number of rewiews. Rather than it, most of the number of bookings were takes place in Williamsburg Location. We have also analyzed top 10 earner in terms of hosts and average price per day of the listing with respect to neighboorhood."
      ],
      "metadata": {
        "id": "FJ0ZC5ljMBq3"
      }
    },
    {
      "cell_type": "markdown",
      "source": [
        "## ***4. Data Vizualization, Storytelling & Experimenting with charts : Understand the relationships between variables***"
      ],
      "metadata": {
        "id": "6x-p3AWDMIt5"
      }
    },
    {
      "cell_type": "markdown",
      "source": [
        "#### Chart - 1 - Pie Chart (Univariate)"
      ],
      "metadata": {
        "id": "3ZI-Sv5OMGTs"
      }
    }
  ]
}